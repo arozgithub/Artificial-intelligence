{
  "nbformat": 4,
  "nbformat_minor": 0,
  "metadata": {
    "colab": {
      "provenance": []
    },
    "kernelspec": {
      "name": "python3",
      "display_name": "Python 3"
    },
    "language_info": {
      "name": "python"
    }
  },
  "cells": [
    {
      "cell_type": "code",
      "source": [
        "def count(num):\n",
        "  c=1\n",
        "  while(num>0):\n",
        "    num=num//10\n",
        "    c=c+1\n",
        "  print(\"digits are:\",c)\n",
        "count(75869)"
      ],
      "metadata": {
        "colab": {
          "base_uri": "https://localhost:8080/"
        },
        "id": "VNWOLMkJURPQ",
        "outputId": "dad9c225-0357-47c8-91d5-037492456e65"
      },
      "execution_count": 5,
      "outputs": [
        {
          "output_type": "stream",
          "name": "stdout",
          "text": [
            "digits are: 6\n"
          ]
        }
      ]
    },
    {
      "cell_type": "code",
      "source": [
        "def sum(num):\n",
        "  sum1=0\n",
        "  avg=0\n",
        "  for i in range(1,len(num)):\n",
        "    num[i]=num[i-1]+num[i]\n",
        "  for i in range(0,len(num)):\n",
        "    sum1=sum1+num[i]\n",
        "    avg=sum1/len(num)\n",
        "  print(avg)\n",
        "num=[5.8,2.6,9.1,3.4,7.0  ]\n",
        "sum(num)\n",
        "print(num)\n"
      ],
      "metadata": {
        "colab": {
          "base_uri": "https://localhost:8080/"
        },
        "id": "aOPBzMCtUS6A",
        "outputId": "bdd945f6-7bb6-45b8-e368-e0c5f1942e90"
      },
      "execution_count": 13,
      "outputs": [
        {
          "output_type": "stream",
          "name": "stdout",
          "text": [
            "16.1\n",
            "[5.8, 8.4, 17.5, 20.9, 27.9]\n"
          ]
        }
      ]
    },
    {
      "cell_type": "code",
      "source": [
        "def counter(filename):\n",
        "\n",
        "  total_chars = 0\n",
        "  total_digits = 0\n",
        "  total_uppercase = 0\n",
        "  total_lowercase = 0\n",
        "  total_spaces = 0\n",
        "\n",
        "  with open(filename, \"r\") as f:\n",
        "    for line in f:\n",
        "      for char in line:\n",
        "        total_chars += 1\n",
        "        if char.isdigit():\n",
        "          total_digits += 1\n",
        "        elif char.isupper():\n",
        "          total_uppercase += 1\n",
        "        elif char.islower():\n",
        "          total_lowercase += 1\n",
        "        elif char.isspace():\n",
        "          total_spaces += 1\n",
        "\n",
        "  return {\n",
        "      \"total_chars\": total_chars,\n",
        "      \"total_digits\": total_digits,\n",
        "      \"total_uppercase\": total_uppercase,\n",
        "      \"total_lowercase\": total_lowercase,\n",
        "      \"total_spaces\": total_spaces,\n",
        "  }\n",
        "\n",
        "#Implementation\n",
        "filename = \"q3.txt\"\n",
        "counts = counter(filename)\n",
        "\n",
        "print(\"Total characters:\", counts[\"total_chars\"])\n",
        "print(\"Total digits:\", counts[\"total_digits\"])\n",
        "print(\"Total uppercase characters:\", counts[\"total_uppercase\"])\n",
        "print(\"Total lowercase characters:\", counts[\"total_lowercase\"])\n",
        "print(\"Total spaces:\", counts[\"total_spaces\"])"
      ],
      "metadata": {
        "colab": {
          "base_uri": "https://localhost:8080/"
        },
        "id": "VUMo2yQ4UTGX",
        "outputId": "272f909a-5f01-4a32-91ad-56c7953388ba"
      },
      "execution_count": 15,
      "outputs": [
        {
          "output_type": "stream",
          "name": "stdout",
          "text": [
            "Total characters: 25\n",
            "Total digits: 3\n",
            "Total uppercase characters: 0\n",
            "Total lowercase characters: 15\n",
            "Total spaces: 2\n"
          ]
        }
      ]
    },
    {
      "cell_type": "markdown",
      "source": [
        "# Q4\n"
      ],
      "metadata": {
        "id": "CFw0HNE7Tok0"
      }
    },
    {
      "cell_type": "code",
      "source": [
        "DOB=\"2003-01-05 08:53:31.715391\"\n",
        "date=\"2024-01-26 07:53:31.715391\"\n",
        "year=int(DOB[0:4])\n",
        "month=int(DOB[5:7])\n",
        "day=int(DOB[8:10])\n",
        "hour=int(DOB[11:13])\n",
        "min=int(DOB[14:16])\n",
        "sec=int(DOB[17:19])\n",
        "milsec=int(DOB[20:99])\n",
        "year1=int(date[0:4])\n",
        "month1=int(date[5:7])\n",
        "day1=int(date[8:10])\n",
        "hour1=int(date[11:13])\n",
        "min1=int(date[14:16])\n",
        "sec1=int(date[17:19])\n",
        "milsec1=float(date[20:99])\n",
        "timestamp=(year1-year)*365*24*60*60+(month1-month)*30*24*60*60+(day1-day)*24*60*60+(hour1-hour)*60*60+(min1-min)*60+(sec1-sec)+(milsec)\n",
        "print(timestamp)\n"
      ],
      "metadata": {
        "colab": {
          "base_uri": "https://localhost:8080/"
        },
        "id": "8BNmzRV-TnIv",
        "outputId": "bc9a456b-999a-4f65-e4d7-edb24b3a8fab"
      },
      "execution_count": 21,
      "outputs": [
        {
          "output_type": "stream",
          "name": "stdout",
          "text": [
            "664782191\n"
          ]
        }
      ]
    },
    {
      "cell_type": "markdown",
      "source": [
        "# Q5"
      ],
      "metadata": {
        "id": "2Nc9mDy7Thje"
      }
    },
    {
      "cell_type": "code",
      "execution_count": 22,
      "metadata": {
        "colab": {
          "base_uri": "https://localhost:8080/"
        },
        "id": "r9-KP1NWPmhi",
        "outputId": "5d58cf56-a623-48cd-9131-37d0205e3290"
      },
      "outputs": [
        {
          "output_type": "stream",
          "name": "stdout",
          "text": [
            "path at this moment is  2 1\n",
            "path at this moment is  2 2\n",
            "path at this moment is  3 2\n",
            "path at this moment is  3 3\n",
            "path at this moment is  4 3\n",
            "path at this moment is  4 4\n"
          ]
        }
      ],
      "source": [
        "array=[[0,0,0,0],\n",
        "      [0,0,0,0],\n",
        "      [0,0,0,0],\n",
        "      [0,0,0,0]]\n",
        "initialpointx=1\n",
        "initialpointy=1\n",
        "expectedpointx=4\n",
        "expectedpointy=4\n",
        "\n",
        "for x in range(0,3):\n",
        "  for y in range(0,4):\n",
        "    if(initialpointx<expectedpointx):\n",
        "      initialpointx=initialpointx+1\n",
        "      print(\"path at this moment is \",initialpointx,initialpointy)\n",
        "    if(initialpointy<expectedpointy):\n",
        "      initialpointy=initialpointy+1\n",
        "      print(\"path at this moment is \",initialpointx,initialpointy)\n",
        "    else:\n",
        "      break"
      ]
    },
    {
      "cell_type": "code",
      "source": [],
      "metadata": {
        "id": "VN9YIIBwQu4p"
      },
      "execution_count": null,
      "outputs": []
    }
  ]
}