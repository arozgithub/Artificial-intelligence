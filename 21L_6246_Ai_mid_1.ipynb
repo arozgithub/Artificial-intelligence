{
  "nbformat": 4,
  "nbformat_minor": 0,
  "metadata": {
    "colab": {
      "provenance": []
    },
    "kernelspec": {
      "name": "python3",
      "display_name": "Python 3"
    },
    "language_info": {
      "name": "python"
    }
  },
  "cells": [
    {
      "cell_type": "markdown",
      "source": [
        "***Q. No. 1*** - Navigate through a simple 2D maze using BFS to find if there's a path from the start to the goal. Complete the implementation of the BFS algorithm to find the shortest path through a maze represented by a 2D grid. The function is partially written; fill in the missing parts to enqueue neighboring nodes properly and ensure the path is tracked efficiently."
      ],
      "metadata": {
        "id": "teUfGUr3tF5i"
      }
    },
    {
      "cell_type": "code",
      "source": [
        "from collections import deque\n",
        "\n",
        "def get_neighbors(cube, x, y):\n",
        "    neighbors = [(x-1, y), (x+1, y), (x, y-1), (x, y+1)]\n",
        "    valid_neighbors = [(nx, ny) for nx, ny in neighbors if 0 <= nx < len(cube) and 0 <= ny < len(cube[0]) and cube[nx][ny] != '1']\n",
        "    return valid_neighbors\n",
        "def bfs_in_a_maze(maze, start, end):\n",
        "\n",
        "\n",
        "  queue = deque([((start), [start])])\n",
        "\n",
        "  visited = set()\n",
        "  while queue:\n",
        "      (x, y), path = queue.popleft()\n",
        "      if (x, y) not in visited:\n",
        "          if maze[x][y] == end:\n",
        "              return path\n",
        "          visited.add((x, y))\n",
        "          for neighbor in get_neighbors(maze, x, y):\n",
        "                queue.append((neighbor, path + [neighbor]))\n",
        "  return -1\n",
        "\n",
        "# Initialized maze (0: path, 1: wall)\n",
        "maze = [\n",
        "    [0, 1, 0, 0, 0],\n",
        "    [0, 1, 0, 1, 0],\n",
        "    [0, 0, 0, 1, 0],\n",
        "    [1, 1, 0, 0, 0],\n",
        "    [0, 0, 0, 1, 0]\n",
        "]\n",
        "start, end = (0, 0), (4, 4)\n",
        "# Test assertion\n",
        "assert bfs_in_a_maze(maze, start, end)\n",
        "\n"
      ],
      "metadata": {
        "id": "cql3qaqhtcfU"
      },
      "execution_count": 18,
      "outputs": []
    },
    {
      "cell_type": "markdown",
      "source": [
        "***Q. No. 2*** - Implement the missing parts of a recursive DFS function applied to a graph structure. The base case is provided, and your task is to complete the recursive calls, ensuring the algorithm correctly avoids revisiting nodes."
      ],
      "metadata": {
        "id": "B0pE6pxStskf"
      }
    },
    {
      "cell_type": "code",
      "source": [
        "def dfs_recursive(graph, node, visited=None):\n",
        "    if visited is None:\n",
        "        visited = set()\n",
        "    visited.add(node)\n",
        "    for neighbour in graph[node]:\n",
        "        if neighbour not in visited:\n",
        "            dfs_recursive(graph, neighbour, visited)\n",
        "    return visited\n",
        "\n",
        "# Initialized graph\n",
        "graph = {\n",
        "    'A': ['B', 'C'],\n",
        "    'B': ['A', 'D', 'E'],\n",
        "    'C': ['A', 'F'],\n",
        "    'D': ['B'],\n",
        "    'E': ['B', 'F'],\n",
        "    'F': ['C', 'E']\n",
        "}\n",
        "start_node = 'A'\n",
        "# Expected output includes all nodes since it's a connected graph\n",
        "expected_visited = {'A', 'B', 'C', 'D', 'E', 'F'}\n",
        "# Test assertion\n",
        "assert dfs_recursive(graph, start_node) == expected_visited"
      ],
      "metadata": {
        "id": "28rGp7Zxtkfj"
      },
      "execution_count": 38,
      "outputs": []
    },
    {
      "cell_type": "markdown",
      "source": [
        "***Q. No. 3*** - Given a list of numbers, use Python list comprehensions to create a new list containing the square of each odd number in the original list. The initial list and a partial function are provided; complete the list comprehension part."
      ],
      "metadata": {
        "id": "y25G-GPEtxK9"
      }
    },
    {
      "cell_type": "code",
      "source": [
        "def transform_list(input_list):\n",
        "    # Complete the list comprehension to square each element\n",
        "    new_list=[]\n",
        "    for x in input_list:\n",
        "      new_list.append(x**2)\n",
        "      #print(new_list)\n",
        "    return list(new_list)\n",
        "    #return [x**2 for x in input_list]\n",
        "\n",
        "# Test input and assertion\n",
        "test_input = [1, 2, 3, 4]\n",
        "expected_output = [1, 4, 9, 16]\n",
        "\n",
        "assert transform_list(test_input) == expected_output\n"
      ],
      "metadata": {
        "id": "Rm8H5_30t0kU"
      },
      "execution_count": 3,
      "outputs": []
    },
    {
      "cell_type": "code",
      "source": [
        "#assertion pased true"
      ],
      "metadata": {
        "id": "-CBqQX9hWxJh"
      },
      "execution_count": 4,
      "outputs": []
    },
    {
      "cell_type": "markdown",
      "source": [],
      "metadata": {
        "id": "513ttPhHWup5"
      }
    },
    {
      "cell_type": "markdown",
      "source": [
        "***Q. No. 4*** - Implement the missing parts of the Uniform Cost Search algorithm to find the lowest cost path in a weighted graph from a start node to a goal node. The initial setup, including the priority queue, is provided. Focus on handling node costs correctly and ensuring the lowest cost path is selected"
      ],
      "metadata": {
        "id": "FnUnKtiGuBqP"
      }
    },
    {
      "cell_type": "code",
      "source": [
        "import heapq\n",
        "class Node:\n",
        "    def __init__(self, state, cost, path):\n",
        "        self.state = state\n",
        "        self.cost = cost\n",
        "        self.path = path\n",
        "\n",
        "    def __lt__(self, other):\n",
        "        return self.cost < other.cost\n",
        "def uniform_cost_search(graph, start, goal):\n",
        "\n",
        "    frontier = []\n",
        "    heapq.heappush(frontier, Node(start, 0, []))\n",
        "\n",
        "    explored = set()\n",
        "\n",
        "    while frontier:\n",
        "        node = heapq.heappop(frontier)\n",
        "\n",
        "        if node.state == goal:\n",
        "            return node.path + [node.state], node.cost\n",
        "\n",
        "        if node.state not in explored:\n",
        "            explored.add(node.state)\n",
        "            for neighbor, neighbor_cost in graph[node.state].items():\n",
        "                if neighbor not in explored:\n",
        "                    total_cost = node.cost + neighbor_cost\n",
        "                    total_cost =total_cost+1\n",
        "\n",
        "                    heapq.heappush(frontier, Node(neighbor, total_cost-1, node.path + [node.state]))\n",
        "\n",
        "    return None, float('inf')  # No path found\n",
        "# Example usage:\n",
        "graph = {\n",
        "    'A': {'B': 2, 'C': 5},\n",
        "    'B': {'A': 2, 'D': 3, 'E': 1},\n",
        "    'C': {'A': 5, 'E': 2},\n",
        "    'D': {'B': 3},\n",
        "    'E': {'B': 1, 'C': 2}\n",
        "}\n",
        "start, goal = 'A', 'D'\n",
        "\n",
        "\n",
        "# Test assertion\n",
        "expected_path_cost = 5\n",
        "path, cost = uniform_cost_search(graph, start, goal)\n",
        "if cost==expected_path_cost:\n",
        "  print(\"true\")\n",
        "if path:\n",
        "    print(\"Optimal Path:\", path + [goal])\n",
        "    print(\"Total Cost:\", cost)\n",
        "else:\n",
        "    print(\"No path found.\")\n"
      ],
      "metadata": {
        "id": "fUFIHxBcuEYr",
        "colab": {
          "base_uri": "https://localhost:8080/"
        },
        "outputId": "eebb8ad5-86b8-42d7-b4ae-c5ca6045e7a2"
      },
      "execution_count": 51,
      "outputs": [
        {
          "output_type": "stream",
          "name": "stdout",
          "text": [
            "true\n",
            "Optimal Path: ['A', 'B', 'D', 'D']\n",
            "Total Cost: 5\n"
          ]
        }
      ]
    },
    {
      "cell_type": "code",
      "source": [
        "if path:\n",
        "    print(\"Optimal Path:\", path + [goal])\n",
        "    print(\"Total Cost:\", cost)\n",
        "else:\n",
        "    print(\"No path found.\")\n",
        "    path, cost = uniform_cost_search(graph, start, goal)\n"
      ],
      "metadata": {
        "colab": {
          "base_uri": "https://localhost:8080/"
        },
        "id": "UWZNXzjaTS8O",
        "outputId": "4cee055c-88b5-4773-b3eb-283b7cf7afae"
      },
      "execution_count": 46,
      "outputs": [
        {
          "output_type": "stream",
          "name": "stdout",
          "text": [
            "Optimal Path: ['A', 'B', 'D', 'D']\n",
            "Total Cost: 5\n"
          ]
        }
      ]
    },
    {
      "cell_type": "markdown",
      "source": [
        "***Q. No. 5 -*** Given a dataset containing sales records for a bookstore where each record is a dictionary with keys 'title', 'author', 'genre', and 'sold', implement a Python function that summarizes total sales per genre.\n",
        "\n",
        "Function Requirements:\n",
        "\n",
        "Input: A list of dictionaries, each representing a sales record.\n",
        "Output: A dictionary with genres as keys and total sales in those genres as values."
      ],
      "metadata": {
        "id": "8jPMlE9muRKG"
      }
    },
    {
      "cell_type": "code",
      "source": [
        "def summarize_sales_by_genre(sales_data):\n",
        "\n",
        "    genre_sales = {}\n",
        "    for record in sales_data:\n",
        "        genre = record['genre']\n",
        "        sold = record['sold']\n",
        "        # Students to complete: Update the genre_sales dictionary\n",
        "        # Hint: Check if the genre already exists in genre_sales. If it does, add the sold amount to the existing value.\n",
        "        # If the genre does not exist in genre_sales, add it as a new key with the sold amount as its value.\n",
        "        if genre in genre_sales:\n",
        "          genre_sales[genre]+=sold\n",
        "        else: genre_sales[genre]=sold\n",
        "    print(genre_sales)\n",
        "    return genre_sales\n",
        "\n",
        "# Test your function\n",
        "sales_data = [\n",
        "    {'title': 'Book A', 'author': 'Author X', 'genre': 'Fantasy', 'sold': 150},\n",
        "    {'title': 'Book B', 'author': 'Author Y', 'genre': 'Science Fiction', 'sold': 200},\n",
        "     {'title': 'Book C', 'author': 'Author Z', 'genre': 'Fantasy', 'sold': 300},\n",
        "    {'title': 'Book D', 'author': 'Author W', 'genre': 'Non-Fiction', 'sold': 80},\n",
        "    {'title': 'Book E', 'author': 'Author V', 'genre': 'Science Fiction', 'sold': 150}\n",
        "]\n",
        "\n",
        "\n",
        "# Example assertion for testing (adjust according to your test data)\n",
        "expected_output = {'Fantasy': 450, 'Science Fiction': 350,'Non-Fiction':80}\n",
        "assert summarize_sales_by_genre(sales_data) == expected_output\n"
      ],
      "metadata": {
        "id": "kkLafXqLuOku",
        "colab": {
          "base_uri": "https://localhost:8080/"
        },
        "outputId": "5914d118-40f5-4450-b57a-862c045ec954"
      },
      "execution_count": 55,
      "outputs": [
        {
          "output_type": "stream",
          "name": "stdout",
          "text": [
            "<function summarize_sales_by_genre at 0x7e4e0af6a200>\n"
          ]
        }
      ]
    },
    {
      "cell_type": "code",
      "source": [
        "def main():\n",
        "    # Execute each test\n",
        "    maze = [\n",
        "    [0, 1, 0, 0, 0],\n",
        "    [0, 1, 0, 1, 0],\n",
        "    [0, 0, 0, 1, 0],\n",
        "    [1, 1, 0, 0, 0],\n",
        "    [0, 0, 0, 1, 0]\n",
        "]\n",
        "start, end = (0, 0), (4, 4)\n",
        "print(\"BFS in a Maze Test:\", \"Passed\" if bfs_in_a_maze(maze, start, end) else \"Failed\")\n",
        "graph = {\n",
        "    'A': ['B', 'C'],\n",
        "    'B': ['A', 'D', 'E'],\n",
        "    'C': ['A', 'F'],\n",
        "    'D': ['B'],\n",
        "    'E': ['B', 'F'],\n",
        "    'F': ['C', 'E']\n",
        "}\n",
        "start_node = 'A'\n",
        "# Expected output includes all nodes since it's a connected graph\n",
        "expected_visited = {'A', 'B', 'C', 'D', 'E', 'F'}\n",
        "print(\"DFS Recursive Test:\", \"Passed\" if dfs_recursive(graph, start_node) == expected_visited else \"Failed\")\n",
        "test_input = [1, 2, 3, 4]\n",
        "expected_output = [1, 4, 9, 16]\n",
        "print(\"List Manipulation Test:\", \"Passed\" if transform_list(test_input) == expected_output else \"Failed\")\n",
        "# Example usage:\n",
        "graph = {\n",
        "    'A': {'B': 2, 'C': 5},\n",
        "    'B': {'A': 2, 'D': 3, 'E': 1},\n",
        "    'C': {'A': 5, 'E': 2},\n",
        "    'D': {'B': 3},\n",
        "    'E': {'B': 1, 'C': 2}\n",
        "}\n",
        "start, goal = 'A', 'D'\n",
        "\n",
        "\n",
        "# Test assertion\n",
        "expected_path_cost = 5\n",
        "path,cost=uniform_cost_search(graph, start, goal)\n",
        "print(\"Uniform Cost Search Test:\", \"Passed\" if cost == expected_path_cost else \"Failed\")\n",
        "\n",
        "# Example assertion for testing (adjust according to your test data)\n",
        "expected_output1 = {'Fantasy': 450, 'Science Fiction': 350,'Non-Fiction':80}\n",
        "print(\"Sales Summary by Genre Test:\", \"Passed\" if summarize_sales_by_genre(sales_data) == expected_output1 else \"Failed\")\n",
        "\n",
        "if __name__ == \"__main__\":\n",
        "    main()\n"
      ],
      "metadata": {
        "id": "NHxMun7Jubgk",
        "colab": {
          "base_uri": "https://localhost:8080/"
        },
        "outputId": "db1baa1e-c84e-403d-f9f7-f37776a83d16"
      },
      "execution_count": 52,
      "outputs": [
        {
          "output_type": "stream",
          "name": "stdout",
          "text": [
            "BFS in a Maze Test: Passed\n",
            "DFS Recursive Test: Passed\n",
            "List Manipulation Test: Passed\n",
            "Uniform Cost Search Test: Passed\n",
            "{'Fantasy': 450, 'Science Fiction': 350, 'Non-Fiction': 80}\n",
            "Sales Summary by Genre Test: Passed\n"
          ]
        }
      ]
    }
  ]
}