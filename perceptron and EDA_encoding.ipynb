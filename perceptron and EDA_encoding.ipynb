{
  "nbformat": 4,
  "nbformat_minor": 0,
  "metadata": {
    "colab": {
      "provenance": []
    },
    "kernelspec": {
      "name": "python3",
      "display_name": "Python 3"
    },
    "language_info": {
      "name": "python"
    }
  },
  "cells": [
    {
      "cell_type": "markdown",
      "source": [
        "# Q1: OR and AND GATE"
      ],
      "metadata": {
        "id": "YFHGnyv1IRKR"
      }
    },
    {
      "cell_type": "code",
      "source": [
        "import numpy as np\n",
        "\n",
        "class Perceptron:\n",
        "    def __init__(self, learning_rate=0.1, n_iterations=100):\n",
        "        self.learning_rate = learning_rate\n",
        "        self.n_iterations = n_iterations\n",
        "\n",
        "    def train(self, X, y):\n",
        "        self.weights = np.zeros(X.shape[1])\n",
        "        self.bias = 0\n",
        "\n",
        "        for _ in range(self.n_iterations):\n",
        "            for xi, target in zip(X, y):\n",
        "                update = self.learning_rate * (target - self.predict(xi))\n",
        "                self.weights += update * xi\n",
        "                self.bias += update\n",
        "\n",
        "    def predict(self, X):\n",
        "        return np.where(np.dot(X, self.weights) + self.bias > 0, 1, 0)\n",
        "\n",
        "# OR gate training data\n",
        "X_or = np.array([[0, 0], [0, 1], [1, 0], [1, 1]])\n",
        "y_or = np.array([0, 1, 1, 1])\n",
        "\n",
        "# AND gate training data\n",
        "X_and = np.array([[0, 0], [0, 1], [1, 0], [1, 1]])\n",
        "y_and = np.array([0, 0, 0, 1])\n",
        "\n",
        "# Train OR perceptron\n",
        "or_perceptron = Perceptron()\n",
        "or_perceptron.train(X_or, y_or)\n",
        "\n",
        "# Train AND perceptron\n",
        "and_perceptron = Perceptron()\n",
        "and_perceptron.train(X_and, y_and)\n",
        "\n",
        "# Test OR perceptron\n",
        "print(\"OR Gate Predictions:\")\n",
        "print(\"0 OR 0:\", or_perceptron.predict(np.array([[0, 0]])))\n",
        "print(\"0 OR 1:\", or_perceptron.predict(np.array([[0, 1]])))\n",
        "print(\"1 OR 0:\", or_perceptron.predict(np.array([[1, 0]])))\n",
        "print(\"1 OR 1:\", or_perceptron.predict(np.array([[1, 1]])))\n",
        "\n",
        "# Test AND perceptron\n",
        "print(\"\\nAND Gate Predictions:\")\n",
        "print(\"0 AND 0:\", and_perceptron.predict(np.array([[0, 0]])))\n",
        "print(\"0 AND 1:\", and_perceptron.predict(np.array([[0, 1]])))\n",
        "print(\"1 AND 0:\", and_perceptron.predict(np.array([[1, 0]])))\n",
        "print(\"1 AND 1:\", and_perceptron.predict(np.array([[1, 1]])))\n"
      ],
      "metadata": {
        "colab": {
          "base_uri": "https://localhost:8080/"
        },
        "id": "SZ12OO9yINNP",
        "outputId": "64c747d7-fcae-4317-fe09-d500ca556214"
      },
      "execution_count": 1,
      "outputs": [
        {
          "output_type": "stream",
          "name": "stdout",
          "text": [
            "OR Gate Predictions:\n",
            "0 OR 0: [0]\n",
            "0 OR 1: [1]\n",
            "1 OR 0: [1]\n",
            "1 OR 1: [1]\n",
            "\n",
            "AND Gate Predictions:\n",
            "0 AND 0: [0]\n",
            "0 AND 1: [0]\n",
            "1 AND 0: [0]\n",
            "1 AND 1: [1]\n"
          ]
        }
      ]
    },
    {
      "cell_type": "markdown",
      "source": [
        "# Q2:Dataet analysis"
      ],
      "metadata": {
        "id": "Z57bb79wIf6r"
      }
    },
    {
      "cell_type": "code",
      "execution_count": 7,
      "metadata": {
        "colab": {
          "base_uri": "https://localhost:8080/",
          "height": 755
        },
        "id": "NM8SIqmzH4Fi",
        "outputId": "6b715dcb-3564-4a0b-afc0-a8d07b4c23bd"
      },
      "outputs": [
        {
          "output_type": "display_data",
          "data": {
            "text/plain": [
              "<Figure size 640x480 with 1 Axes>"
            ],
            "image/png": "[encoded data removed]"
          },
          "metadata": {}
        },
        {
          "output_type": "stream",
          "name": "stdout",
          "text": [
            "Class Counts:\n",
            "57    1082\n",
            "60    1048\n",
            "54     996\n",
            "63     905\n",
            "53     812\n",
            "      ... \n",
            "59       1\n",
            "72       1\n",
            "68       1\n",
            "56       1\n",
            "65       1\n",
            "Name: label, Length: 79, dtype: int64\n"
          ]
        },
        {
          "output_type": "execute_result",
          "data": {
            "text/plain": [
              "MLPClassifier(hidden_layer_sizes=(100, 50), max_iter=500)"
            ],
            "text/html": [
              "<style>#sk-container-id-2 {color: black;background-color: white;}#sk-container-id-2 pre{padding: 0;}#sk-container-id-2 div.sk-toggleable {background-color: white;}#sk-container-id-2 label.sk-toggleable__label {cursor: pointer;display: block;width: 100%;margin-bottom: 0;padding: 0.3em;box-sizing: border-box;text-align: center;}#sk-container-id-2 label.sk-toggleable__label-arrow:before {content: \"▸\";float: left;margin-right: 0.25em;color: #696969;}#sk-container-id-2 label.sk-toggleable__label-arrow:hover:before {color: black;}#sk-container-id-2 div.sk-estimator:hover label.sk-toggleable__label-arrow:before {color: black;}#sk-container-id-2 div.sk-toggleable__content {max-height: 0;max-width: 0;overflow: hidden;text-align: left;background-color: #f0f8ff;}#sk-container-id-2 div.sk-toggleable__content pre {margin: 0.2em;color: black;border-radius: 0.25em;background-color: #f0f8ff;}#sk-container-id-2 input.sk-toggleable__control:checked~div.sk-toggleable__content {max-height: 200px;max-width: 100%;overflow: auto;}#sk-container-id-2 input.sk-toggleable__control:checked~label.sk-toggleable__label-arrow:before {content: \"▾\";}#sk-container-id-2 div.sk-estimator input.sk-toggleable__control:checked~label.sk-toggleable__label {background-color: #d4ebff;}#sk-container-id-2 div.sk-label input.sk-toggleable__control:checked~label.sk-toggleable__label {background-color: #d4ebff;}#sk-container-id-2 input.sk-hidden--visually {border: 0;clip: rect(1px 1px 1px 1px);clip: rect(1px, 1px, 1px, 1px);height: 1px;margin: -1px;overflow: hidden;padding: 0;position: absolute;width: 1px;}#sk-container-id-2 div.sk-estimator {font-family: monospace;background-color: #f0f8ff;border: 1px dotted black;border-radius: 0.25em;box-sizing: border-box;margin-bottom: 0.5em;}#sk-container-id-2 div.sk-estimator:hover {background-color: #d4ebff;}#sk-container-id-2 div.sk-parallel-item::after {content: \"\";width: 100%;border-bottom: 1px solid gray;flex-grow: 1;}#sk-container-id-2 div.sk-label:hover label.sk-toggleable__label {background-color: #d4ebff;}#sk-container-id-2 div.sk-serial::before {content: \"\";position: absolute;border-left: 1px solid gray;box-sizing: border-box;top: 0;bottom: 0;left: 50%;z-index: 0;}#sk-container-id-2 div.sk-serial {display: flex;flex-direction: column;align-items: center;background-color: white;padding-right: 0.2em;padding-left: 0.2em;position: relative;}#sk-container-id-2 div.sk-item {position: relative;z-index: 1;}#sk-container-id-2 div.sk-parallel {display: flex;align-items: stretch;justify-content: center;background-color: white;position: relative;}#sk-container-id-2 div.sk-item::before, #sk-container-id-2 div.sk-parallel-item::before {content: \"\";position: absolute;border-left: 1px solid gray;box-sizing: border-box;top: 0;bottom: 0;left: 50%;z-index: -1;}#sk-container-id-2 div.sk-parallel-item {display: flex;flex-direction: column;z-index: 1;position: relative;background-color: white;}#sk-container-id-2 div.sk-parallel-item:first-child::after {align-self: flex-end;width: 50%;}#sk-container-id-2 div.sk-parallel-item:last-child::after {align-self: flex-start;width: 50%;}#sk-container-id-2 div.sk-parallel-item:only-child::after {width: 0;}#sk-container-id-2 div.sk-dashed-wrapped {border: 1px dashed gray;margin: 0 0.4em 0.5em 0.4em;box-sizing: border-box;padding-bottom: 0.4em;background-color: white;}#sk-container-id-2 div.sk-label label {font-family: monospace;font-weight: bold;display: inline-block;line-height: 1.2em;}#sk-container-id-2 div.sk-label-container {text-align: center;}#sk-container-id-2 div.sk-container {/* jupyter's `normalize.less` sets `[hidden] { display: none; }` but bootstrap.min.css set `[hidden] { display: none !important; }` so we also need the `!important` here to be able to override the default hidden behavior on the sphinx rendered scikit-learn.org. See: https://github.com/scikit-learn/scikit-learn/issues/21755 */display: inline-block !important;position: relative;}#sk-container-id-2 div.sk-text-repr-fallback {display: none;}</style><div id=\"sk-container-id-2\" class=\"sk-top-container\"><div class=\"sk-text-repr-fallback\"><pre>MLPClassifier(hidden_layer_sizes=(100, 50), max_iter=500)</pre><b>In a Jupyter environment, please rerun this cell to show the HTML representation or trust the notebook. <br />On GitHub, the HTML representation is unable to render, please try loading this page with nbviewer.org.</b></div><div class=\"sk-container\" hidden><div class=\"sk-item\"><div class=\"sk-estimator sk-toggleable\"><input class=\"sk-toggleable__control sk-hidden--visually\" id=\"sk-estimator-id-2\" type=\"checkbox\" checked><label for=\"sk-estimator-id-2\" class=\"sk-toggleable__label sk-toggleable__label-arrow\">MLPClassifier</label><div class=\"sk-toggleable__content\"><pre>MLPClassifier(hidden_layer_sizes=(100, 50), max_iter=500)</pre></div></div></div></div></div>"
            ]
          },
          "metadata": {},
          "execution_count": 7
        }
      ],
      "source": [
        "import pandas as pd\n",
        "import matplotlib.pyplot as plt\n",
        "from sklearn.preprocessing import LabelEncoder, OneHotEncoder\n",
        "from sklearn.neural_network import MLPClassifier\n",
        "\n",
        "# Step 1: Load the dataset\n",
        "data = pd.read_csv('horseRacing.csv')\n",
        "\n",
        "# Step 2: Clean the dataset (if needed)\n",
        "# Example: Handling missing values by dropping rows with NaN values\n",
        "data.dropna(inplace=True)\n",
        "\n",
        "# Step 3: Convert labels into 0 or 1\n",
        "label_encoder = LabelEncoder()\n",
        "data['label'] = label_encoder.fit_transform(data['price'])\n",
        "\n",
        "# Step 4: Plot statistics for exploratory data analysis\n",
        "# Example: Plot histogram of a feature\n",
        "plt.hist(data['calc_position'], bins=20)\n",
        "plt.xlabel('Feature')\n",
        "plt.ylabel('Frequency')\n",
        "plt.title('Distribution of Feature')\n",
        "plt.show()\n",
        "\n",
        "# Step 5: Identify issues with the dataset and propose solutions\n",
        "# Example: Check for class imbalance\n",
        "class_counts = data['label'].value_counts()\n",
        "print(\"Class Counts:\")\n",
        "print(class_counts)\n",
        "\n",
        "# Step 6: Implement one hot encoding on Race ID Column\n",
        "race_id_encoded = pd.get_dummies(data['race_id'], prefix='race')\n",
        "\n",
        "# Step 7: Implement One hot encoding for Horse ID Column\n",
        "horse_id_encoded = pd.get_dummies(data['horse_id'], prefix='horse')\n",
        "\n",
        "# Step 8: Bonus - Use MLP to train a classifier\n",
        "# Select the first 200 rows from the dataset\n",
        "data_subset = data.head(200)\n",
        "\n",
        "# Step 8: Bonus - Use MLP to train a classifier\n",
        "X = pd.concat([data_subset[['1-108', '1-109']], race_id_encoded.head(200), horse_id_encoded.head(200)], axis=1)\n",
        "y = data_subset['label']\n",
        "\n",
        "# Create and train MLP classifier\n",
        "classifier = MLPClassifier(hidden_layer_sizes=(100, 50), max_iter=500)\n",
        "classifier.fit(X, y)"
      ]
    }
  ]
}