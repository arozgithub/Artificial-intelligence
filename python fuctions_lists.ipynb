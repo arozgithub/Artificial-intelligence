{
  "cells": [
    {
      "cell_type": "code",
      "source": [
        "import string\n",
        "import math"
      ],
      "metadata": {
        "id": "WoZZ08u-Jtnp"
      },
      "execution_count": 6,
      "outputs": []
    },
    {
      "cell_type": "code",
      "execution_count": 2,
      "metadata": {
        "id": "KXkro8-7bTDc"
      },
      "outputs": [],
      "source": [
        "def chickens(count):\n",
        "  if count>=10:\n",
        "    print('many')\n",
        "  else:\n",
        "    print(count)\n",
        "  # LAB(end solution)"
      ]
    },
    {
      "cell_type": "code",
      "execution_count": 69,
      "metadata": {
        "id": "-Bzoj_dxbab4",
        "outputId": "f4c22542-de3e-425c-f960-350e9c3a9e59",
        "colab": {
          "base_uri": "https://localhost:8080/",
          "height": 35
        }
      },
      "outputs": [
        {
          "output_type": "execute_result",
          "data": {
            "text/plain": [
              "'intent'"
            ],
            "application/vnd.google.colaboratory.intrinsic+json": {
              "type": "string"
            }
          },
          "metadata": {},
          "execution_count": 69
        }
      ],
      "source": [
        "def string_both_ends_3(s):\n",
        "  if (len(s))<3:\n",
        "     print(\"\")\n",
        "  else :\n",
        "     return( s[:3]+s[-3:])\n",
        "\n",
        "\n",
        "string_both_ends_3('intelligent')"
      ]
    },
    {
      "cell_type": "code",
      "execution_count": 87,
      "metadata": {
        "id": "89-n4vxQbcQ2"
      },
      "outputs": [],
      "source": [
        "def first_char_replace(s):\n",
        "  sr=\"@\"\n",
        "  f=s[0]\n",
        "  s=s.replace(s[0],sr)\n",
        "  return(f+s[1:])\n"
      ]
    },
    {
      "cell_type": "code",
      "source": [
        "\n",
        "print(first_char_replace(\"babble\"))\n"
      ],
      "metadata": {
        "id": "STwAVzyONQNo",
        "outputId": "4a440e63-97c5-495d-86c3-6816fd02fd01",
        "colab": {
          "base_uri": "https://localhost:8080/"
        }
      },
      "execution_count": 88,
      "outputs": [
        {
          "output_type": "stream",
          "name": "stdout",
          "text": [
            "ba@@le\n"
          ]
        }
      ]
    },
    {
      "cell_type": "code",
      "execution_count": 100,
      "metadata": {
        "id": "2kbjAlDBbeLl"
      },
      "outputs": [],
      "source": [
        "def string_jumble(a, b):\n",
        "  a=list(a)\n",
        "  b=list(b)\n",
        "  i=a[0:2]\n",
        "  a[0:2]=b[0:2]\n",
        "  b[0:2]=i\n",
        "  s=a+b\n",
        "  return s"
      ]
    },
    {
      "cell_type": "code",
      "source": [
        "print(string_jumble(\"mix\",\"pod\"))"
      ],
      "metadata": {
        "id": "DKXtyYcROkcU",
        "outputId": "ce4dd36a-c2a2-4be3-a7b1-977efd947280",
        "colab": {
          "base_uri": "https://localhost:8080/"
        }
      },
      "execution_count": 101,
      "outputs": [
        {
          "output_type": "stream",
          "name": "stdout",
          "text": [
            "['p', 'o', 'x', 'm', 'i', 'd']\n"
          ]
        }
      ]
    },
    {
      "cell_type": "code",
      "execution_count": 61,
      "metadata": {
        "id": "7yLC3ffrbges"
      },
      "outputs": [],
      "source": [
        "def match_first_last(words):\n",
        " count=0\n",
        " for x in words:\n",
        "  if(len(x)>=2):\n",
        "   if x[0]==x[-1]:\n",
        "    count=count+1\n",
        "\n",
        " return count\n",
        ""
      ]
    },
    {
      "cell_type": "code",
      "source": [
        "print(match_first_last(['aba', 'xyz', 'aa', 'a', 'bbb']))"
      ],
      "metadata": {
        "id": "2H0r2cjjTHnL",
        "outputId": "bae6e675-26bc-49bb-8c53-b76d4b6fd961",
        "colab": {
          "base_uri": "https://localhost:8080/"
        }
      },
      "execution_count": 62,
      "outputs": [
        {
          "output_type": "stream",
          "name": "stdout",
          "text": [
            "3\n"
          ]
        }
      ]
    },
    {
      "cell_type": "code",
      "execution_count": 83,
      "metadata": {
        "id": "-KSpx8tDbiNr"
      },
      "outputs": [],
      "source": [
        "def group_strings(words):\n",
        "  return(sorted(words))"
      ]
    },
    {
      "cell_type": "code",
      "execution_count": 15,
      "metadata": {
        "id": "bbdfkeD7bmFr"
      },
      "outputs": [],
      "source": [
        "def sort_last(tuples):\n",
        "\n",
        " sorted(tuples)\n",
        " return tuples"
      ]
    },
    {
      "cell_type": "code",
      "source": [
        "\n",
        "print ('\\nsort_last')\n",
        "print(sort_last([(1, 3), (3, 2), (2, 1)]))"
      ],
      "metadata": {
        "id": "JiDYjlcDWhqS",
        "outputId": "0a0d77c1-b811-44ef-dcff-8a8851692adc",
        "colab": {
          "base_uri": "https://localhost:8080/"
        }
      },
      "execution_count": 16,
      "outputs": [
        {
          "output_type": "stream",
          "name": "stdout",
          "text": [
            "\n",
            "sort_last\n",
            "[(1, 3), (3, 2), (2, 1)]\n"
          ]
        }
      ]
    },
    {
      "cell_type": "code",
      "execution_count": 102,
      "metadata": {
        "id": "T8E4jaD5bnzK"
      },
      "outputs": [],
      "source": [
        "def main():\n",
        "  print ('Number of chickens')\n",
        "  print(chickens(4))\n",
        "  print(chickens(9))\n",
        "  print(chickens(10))\n",
        "  print(chickens(99))\n",
        "\n",
        "  print ('\\n3 characters from both ends')\n",
        "  print(string_both_ends_3('spring'))\n",
        "  print(string_both_ends_3('Intelligence'))\n",
        "  print(string_both_ends_3('a'))\n",
        "  print(string_both_ends_3('xyz'))\n",
        "\n",
        "  print ('\\nReplace occurrences of first character')\n",
        "  print(first_char_replace('babble'))\n",
        "  print(first_char_replace('aardvark'))\n",
        "  print(first_char_replace('google'))\n",
        "  print(first_char_replace('Ooogle'))\n",
        "\n",
        "  print ('\\nString Jumble')\n",
        "  print(string_jumble('mix', 'pod'))\n",
        "  print(string_jumble('dog', 'dinner'))\n",
        "  print(string_jumble('gnash', 'sport'))\n",
        "  print(string_jumble('pezzy', 'firm'))\n",
        "\n",
        "  print ('\\nMatching first and last characters')\n",
        "  print(match_first_last(['aba', 'xyz', 'aa', 'a', 'bbb']))\n",
        "  print(match_first_last(['', 'x', 'ay', 'ayx', 'ax']))\n",
        "  print(match_first_last(['aaa', 'be', 'abc', 'aello']))\n",
        "\n",
        "  print ('\\nGroup string in a list')\n",
        "  print(group_strings(['bbb', 'ccc', 'axx', 'xzz', 'aaa']))\n",
        "  print(group_strings(['ccc', 'abb', 'aaa', 'xcc', 'aaa']))\n",
        "  print(group_strings(['mix', 'xyz', 'apple', 'xanadu', 'aardvark']))\n",
        "\n",
        "  print ('\\nsort_last')\n",
        "  print(sort_last([(1, 3), (3, 2), (2, 1)]))\n",
        "  print(sort_last([(2, 3), (1, 2), (3, 1)]))\n",
        "  print(sort_last([(1, 7), (1, 3), (3, 4, 5), (2, 2)]))"
      ]
    },
    {
      "cell_type": "code",
      "execution_count": 103,
      "metadata": {
        "id": "cAmJUqYJbpwR",
        "outputId": "0a96a56b-eae2-4bcf-e11c-d3a36dbfdf9f",
        "colab": {
          "base_uri": "https://localhost:8080/"
        }
      },
      "outputs": [
        {
          "output_type": "stream",
          "name": "stdout",
          "text": [
            "Number of chickens\n",
            "4\n",
            "None\n",
            "9\n",
            "None\n",
            "many\n",
            "None\n",
            "many\n",
            "None\n",
            "\n",
            "3 characters from both ends\n",
            "spring\n",
            "Intnce\n",
            "\n",
            "None\n",
            "xyzxyz\n",
            "\n",
            "Replace occurrences of first character\n",
            "ba@@le\n",
            "a@rdv@rk\n",
            "goo@le\n",
            "Ooogle\n",
            "\n",
            "String Jumble\n",
            "['p', 'o', 'x', 'm', 'i', 'd']\n",
            "['d', 'i', 'g', 'd', 'o', 'n', 'n', 'e', 'r']\n",
            "['s', 'p', 'a', 's', 'h', 'g', 'n', 'o', 'r', 't']\n",
            "['f', 'i', 'z', 'z', 'y', 'p', 'e', 'r', 'm']\n",
            "\n",
            "Matching first and last characters\n",
            "3\n",
            "0\n",
            "1\n",
            "\n",
            "Group string in a list\n",
            "['aaa', 'axx', 'bbb', 'ccc', 'xzz']\n",
            "['aaa', 'aaa', 'abb', 'ccc', 'xcc']\n",
            "['aardvark', 'apple', 'mix', 'xanadu', 'xyz']\n",
            "\n",
            "sort_last\n",
            "[(1, 3), (2, 1), (3, 2)]\n",
            "[(1, 2), (2, 3), (3, 1)]\n",
            "[(1, 3), (1, 7), (2, 2), (3, 4, 5)]\n"
          ]
        }
      ],
      "source": [
        "'''\n",
        "Python files .py are modules. Modules can define variables, functions, and classes.\n",
        "When a Python interpreter reads a Python file, it first sets a few special variables.\n",
        "Then it executes the code from the file.\n",
        "\n",
        "One of those variables is called __name__.\n",
        "\n",
        "When the interpreter runs a module, the __name__ variable will be set as  __main__\n",
        "if the module that is being run is the main program.\n",
        "\n",
        "If the code is importing the module from another module, then the __name__\n",
        "variable will be set to that module’s name.\n",
        "'''\n",
        "# Standard boilerplate to call the main() function.\n",
        "if __name__ == '__main__':\n",
        "  main()"
      ]
    },
    {
      "cell_type": "markdown",
      "source": [
        "# **Exercise**"
      ],
      "metadata": {
        "id": "l6bk89ftYVNl"
      }
    },
    {
      "cell_type": "code",
      "source": [
        "def is_palindrome(word):\n",
        "    mid = len(word) // 2\n",
        "    x = word[:mid]\n",
        "    if len(word) % 2 == 0:\n",
        "        y = word[mid:]\n",
        "    else:\n",
        "        y = word[mid+1:]\n",
        "    if x == y[::-1]:\n",
        "        return True\n",
        "    else:\n",
        "        return False\n",
        "\n",
        "print(is_palindrome(\"maham\"))"
      ],
      "metadata": {
        "id": "UXyDcAEuYXut",
        "outputId": "4b79856b-c389-40f9-e3b6-ce45116ed261",
        "colab": {
          "base_uri": "https://localhost:8080/"
        }
      },
      "execution_count": 18,
      "outputs": [
        {
          "output_type": "stream",
          "name": "stdout",
          "text": [
            "True\n"
          ]
        }
      ]
    },
    {
      "cell_type": "code",
      "source": [
        "def flat(l):\n",
        " print(l[0]+l[1])\n",
        "flat([[1, 2, 3], [4, 5]])"
      ],
      "metadata": {
        "id": "ZvppqSLjeCpe",
        "outputId": "5513b1a7-330c-4430-f015-400187d401f8",
        "colab": {
          "base_uri": "https://localhost:8080/"
        }
      },
      "execution_count": 21,
      "outputs": [
        {
          "output_type": "stream",
          "name": "stdout",
          "text": [
            "[1, 2, 3, 4, 5]\n"
          ]
        }
      ]
    },
    {
      "cell_type": "code",
      "source": [
        "def intersection(list1, list2):\n",
        "    return list(set(list1) & set(list2))\n",
        "\n",
        "print(intersection([1, 2,4, 3], [4, 5]))"
      ],
      "metadata": {
        "id": "mNuCloCOegzz",
        "outputId": "0558a2d3-3a76-48a5-d99e-474179bf3a30",
        "colab": {
          "base_uri": "https://localhost:8080/"
        }
      },
      "execution_count": 24,
      "outputs": [
        {
          "output_type": "stream",
          "name": "stdout",
          "text": [
            "[4]\n"
          ]
        }
      ]
    },
    {
      "cell_type": "code",
      "source": [
        "def is_anagram(str1, str2):\n",
        "    \"\"\"\n",
        "    Function to detect if two strings are anagrams.\n",
        "    An anagram is a word, phrase, or name formed by rearranging the letters of another.\n",
        "    \"\"\"\n",
        "    return sorted(str1) == sorted(str2)\n",
        "\n",
        "# Test the function\n",
        "print(is_anagram('listen', 'silent'))  # Output: True\n",
        "print(is_anagram('hello', 'world'))  # Output: False"
      ],
      "metadata": {
        "id": "CA4h3MmpeJdN",
        "outputId": "83f1a51c-6b72-40de-f0ce-912752245f21",
        "colab": {
          "base_uri": "https://localhost:8080/"
        }
      },
      "execution_count": 26,
      "outputs": [
        {
          "output_type": "stream",
          "name": "stdout",
          "text": [
            "True\n",
            "False\n"
          ]
        }
      ]
    },
    {
      "cell_type": "code",
      "source": [
        "def binary_search(arr, target):\n",
        "    \"\"\"\n",
        "    Function to perform binary search on a sorted list and return the index of the target element.\n",
        "    If the target element is not found, return -1.\n",
        "    \"\"\"\n",
        "    low, high = 0, len(arr) - 1\n",
        "    while low <= high:\n",
        "        mid = (low + high) // 2\n",
        "        if arr[mid] == target:\n",
        "            return mid\n",
        "        elif arr[mid] < target:\n",
        "            low = mid + 1\n",
        "        else:\n",
        "            high = mid - 1\n",
        "    return -1\n",
        "\n",
        "# Test the function\n",
        "arr = [2, 3, 5, 7, 11, 13, 17, 19, 23]\n",
        "target = 13\n",
        "print(binary_search(arr, target))  # Output: 5"
      ],
      "metadata": {
        "id": "t4TfM7pjeJfl",
        "outputId": "b23b4b31-207e-4c7f-be3f-6e419221807d",
        "colab": {
          "base_uri": "https://localhost:8080/"
        }
      },
      "execution_count": 27,
      "outputs": [
        {
          "output_type": "stream",
          "name": "stdout",
          "text": [
            "5\n"
          ]
        }
      ]
    },
    {
      "cell_type": "code",
      "source": [
        "def merge_sort(arr):\n",
        "    \"\"\"\n",
        "    Function to sort the list using the merge sort algorithm.\n",
        "    \"\"\"\n",
        "    if len(arr) > 1:\n",
        "        mid = len(arr) // 2\n",
        "        left_half = arr[:mid]\n",
        "        right_half = arr[mid:]\n",
        "\n",
        "        merge_sort(left_half)\n",
        "        merge_sort(right_half)\n",
        "\n",
        "        i = j = k = 0\n",
        "\n",
        "        while i < len(left_half) and j < len(right_half):\n",
        "            if left_half[i] < right_half[j]:\n",
        "                arr[k] = left_half[i]\n",
        "                i += 1\n",
        "            else:\n",
        "                arr[k] = right_half[j]\n",
        "                j += 1\n",
        "            k += 1\n",
        "\n",
        "        while i < len(left_half):\n",
        "            arr[k] = left_half[i]\n",
        "            i += 1\n",
        "            k += 1\n",
        "\n",
        "        while j < len(right_half):\n",
        "            arr[k] = right_half[j]\n",
        "            j += 1\n",
        "            k += 1\n",
        "\n",
        "    return arr\n",
        "\n",
        "# Test the function\n",
        "arr = [38, 27, 43, 3, 9, 82, 10]\n",
        "print(merge_sort(arr))  # Output: [3, 9, 10, 27, 38, 43, 82]"
      ],
      "metadata": {
        "id": "7IgNm4pJeJh9",
        "outputId": "c39095b6-3dfd-43bc-f7e7-735b487da726",
        "colab": {
          "base_uri": "https://localhost:8080/"
        }
      },
      "execution_count": 28,
      "outputs": [
        {
          "output_type": "stream",
          "name": "stdout",
          "text": [
            "[3, 9, 10, 27, 38, 43, 82]\n"
          ]
        }
      ]
    },
    {
      "cell_type": "code",
      "source": [
        "def frequency_counter(arr):\n",
        "    \"\"\"\n",
        "    Function to return a dictionary that contains the frequency count of each element in the list.\n",
        "    \"\"\"\n",
        "    frequency_dict = {}\n",
        "    for element in arr:\n",
        "        if element in frequency_dict:\n",
        "            frequency_dict[element] += 1\n",
        "        else:\n",
        "            frequency_dict[element] = 1\n",
        "    return frequency_dict\n",
        "\n",
        "# Test the function\n",
        "arr = [1, 2, 2, 3, 4, 2]\n",
        "print(frequency_counter(arr))  # Output: {1: 1, 2: 3, 3: 1, 4: 1}"
      ],
      "metadata": {
        "id": "DA_8RlEIeJkT",
        "outputId": "2eb4e244-82be-48ff-8a5e-08d92e95ccc5",
        "colab": {
          "base_uri": "https://localhost:8080/"
        }
      },
      "execution_count": 29,
      "outputs": [
        {
          "output_type": "stream",
          "name": "stdout",
          "text": [
            "{1: 1, 2: 3, 3: 1, 4: 1}\n"
          ]
        }
      ]
    },
    {
      "cell_type": "code",
      "source": [
        "def count_distinct_elements(arr):\n",
        "    \"\"\"\n",
        "    Function to return the count of distinct elements in the list.\n",
        "    \"\"\"\n",
        "    return len(set(arr))\n",
        "\n",
        "# Test the function\n",
        "arr = [1, 2, 2, 3, 4, 2]\n",
        "print(count_distinct_elements(arr))  # Output: 4"
      ],
      "metadata": {
        "id": "0n4I8PDmeJmq",
        "outputId": "c2fc748c-d8b1-4af0-962d-5419a6a28181",
        "colab": {
          "base_uri": "https://localhost:8080/"
        }
      },
      "execution_count": 30,
      "outputs": [
        {
          "output_type": "stream",
          "name": "stdout",
          "text": [
            "4\n"
          ]
        }
      ]
    },
    {
      "cell_type": "code",
      "source": [
        "def union_and_intersection(set1, set2):\n",
        "    \"\"\"\n",
        "    Function to return the union and intersection of the sets as a tuple of two sets.\n",
        "    \"\"\"\n",
        "    return set1 | set2, set1 & set2\n",
        "\n",
        "# Test the function\n",
        "set1 = {1, 2, 3, 4}\n",
        "set2 = {3, 4, 5, 6}\n",
        "print(union_and_intersection(set1, set2))  # Output: ({1, 2, 3, 4, 5, 6}, {3, 4})"
      ],
      "metadata": {
        "id": "ENI-c0WSeJpJ",
        "outputId": "74a2e6fc-bcd7-4ca7-b901-887f496f1714",
        "colab": {
          "base_uri": "https://localhost:8080/"
        }
      },
      "execution_count": 31,
      "outputs": [
        {
          "output_type": "stream",
          "name": "stdout",
          "text": [
            "({1, 2, 3, 4, 5, 6}, {3, 4})\n"
          ]
        }
      ]
    },
    {
      "cell_type": "code",
      "source": [
        "def unique_dictionary_values(d):\n",
        "    \"\"\"\n",
        "    Function to return a list of all the values in the dictionary, but without any duplicates.\n",
        "    \"\"\"\n",
        "    return list(set(d.values()))\n",
        "\n",
        "# Test the function\n",
        "d = {'a': 1, 'b': 2, 'c': 1, 'd': 3}\n",
        "print(unique_dictionary_values(d))  # Output: [1, 2, 3]"
      ],
      "metadata": {
        "id": "ypuo-hsdeJq-",
        "outputId": "825e3cc2-9ac1-40ce-d7d2-3ed3f597b0fb",
        "colab": {
          "base_uri": "https://localhost:8080/"
        }
      },
      "execution_count": 32,
      "outputs": [
        {
          "output_type": "stream",
          "name": "stdout",
          "text": [
            "[1, 2, 3]\n"
          ]
        }
      ]
    },
    {
      "cell_type": "code",
      "source": [
        "def most_common_dictionary_values(d):\n",
        "    \"\"\"\n",
        "    Function to return the key(s) of the value(s) that appear most often in the dictionary.\n",
        "    If there is a tie, return all keys.\n",
        "    \"\"\"\n",
        "    values = list(d.values())\n",
        "    max_count = max(values, key=values.count)\n",
        "    return [key for key, value in d.items() if value == max_count]\n",
        "\n",
        "# Test the function\n",
        "d = {'a': 1, 'b': 2, 'c': 1, 'd': 3}\n",
        "print(most_common_dictionary_values(d))  # Output: ['a', 'c']"
      ],
      "metadata": {
        "id": "CUgoFAe9eJtL",
        "outputId": "faf0b621-8be7-4b92-f214-74b4898bbff5",
        "colab": {
          "base_uri": "https://localhost:8080/"
        }
      },
      "execution_count": 33,
      "outputs": [
        {
          "output_type": "stream",
          "name": "stdout",
          "text": [
            "['a', 'c']\n"
          ]
        }
      ]
    },
    {
      "cell_type": "code",
      "source": [
        "def combine_dictionaries(d1, d2):\n",
        "    \"\"\"\n",
        "    Function to combine two dictionaries and return a new dictionary.\n",
        "    If a key is in both dictionaries, the value from d1 takes precedence.\n",
        "    \"\"\"\n",
        "    return {**d2, **d1}\n",
        "\n",
        "# Test the function\n",
        "d1 = {'a': 1, 'b': 2}\n",
        "d2 = {'b': 3, 'c': 4}\n",
        "print(combine_dictionaries(d1, d2))  # Output: {'b': 2, 'c': 4, 'a': 1}"
      ],
      "metadata": {
        "id": "Ncb4i3DdeJvl",
        "outputId": "6462afdb-8bba-4245-8588-c2b6e9040c64",
        "colab": {
          "base_uri": "https://localhost:8080/"
        }
      },
      "execution_count": 34,
      "outputs": [
        {
          "output_type": "stream",
          "name": "stdout",
          "text": [
            "{'b': 2, 'c': 4, 'a': 1}\n"
          ]
        }
      ]
    },
    {
      "cell_type": "code",
      "source": [
        "def filter_list_of_dictionaries(list_of_dictionaries, key):\n",
        "    \"\"\"\n",
        "    Function to return a new list that contains only the dictionaries that have the given key.\n",
        "    \"\"\"\n",
        "    return [d for d in list_of_dictionaries if key in d]\n",
        "\n",
        "# Test the function\n",
        "list_of_dictionaries = [{'a': 1, 'b': 2}, {'b': 3, 'c': 4}, {'a': 5, 'd': 6}]\n",
        "key = 'a'\n",
        "print(filter_list_of_dictionaries(list_of_dictionaries, key))  # Output: [{'a': 1, 'b': 2}, {'a': 5, 'd': 6}]"
      ],
      "metadata": {
        "id": "V6FjxjideJxp",
        "outputId": "873be3aa-c884-4a24-cfc3-720f3b7e6897",
        "colab": {
          "base_uri": "https://localhost:8080/"
        }
      },
      "execution_count": 35,
      "outputs": [
        {
          "output_type": "stream",
          "name": "stdout",
          "text": [
            "[{'a': 1, 'b': 2}, {'a': 5, 'd': 6}]\n"
          ]
        }
      ]
    },
    {
      "cell_type": "code",
      "source": [
        "def find_duplicates(arr):\n",
        "    \"\"\"\n",
        "    Function to return the elements that are duplicated in the list.\n",
        "    The returned list should only contain the duplicated elements, without any duplicates.\n",
        "    \"\"\"\n",
        "    return list({x for x in arr if arr.count(x) > 1})\n",
        "\n",
        "# Test the function\n",
        "arr = [1, 2, 2, 3, 4, 2]\n",
        "print(find_duplicates(arr))  # Output: [2]"
      ],
      "metadata": {
        "id": "j8pUGIwYelQF",
        "outputId": "985d3388-4a1b-4a5d-fccb-af904d9d0680",
        "colab": {
          "base_uri": "https://localhost:8080/"
        }
      },
      "execution_count": 36,
      "outputs": [
        {
          "output_type": "stream",
          "name": "stdout",
          "text": [
            "[2]\n"
          ]
        }
      ]
    }
  ],
  "metadata": {
    "colab": {
      "provenance": []
    },
    "kernelspec": {
      "name": "python3",
      "display_name": "Python 3"
    },
    "language_info": {
      "name": "python"
    }
  },
  "nbformat": 4,
  "nbformat_minor": 0
}