{
  "nbformat": 4,
  "nbformat_minor": 0,
  "metadata": {
    "colab": {
      "provenance": []
    },
    "kernelspec": {
      "name": "python3",
      "display_name": "Python 3"
    },
    "language_info": {
      "name": "python"
    }
  },
  "cells": [
    {
      "cell_type": "markdown",
      "source": [
        "This is an individual Quiz and You are supposed to complete it in 1 hour AKA 60 Minutes. Please adhere to the following guidelines:-\n",
        "\n",
        "* You are in exam conditions, not communication is allowed. If will cancel\n",
        "\n",
        "* your quiz and mark your absent in case of any problems.\n",
        "\n",
        "* Understanding is part of this quiz, do not ask any questions, if you have confusions, assume things, and write your assumptions, No quires, means no quires\n",
        "\n",
        "* No extra time will be awarded.\n",
        "\n",
        "* The Quiz have 5 abs weightage so be very careful\n",
        "\n",
        "* Mobile phone should be off.\n",
        "\n",
        "* No help from internet is allowed.\n",
        "\n",
        "* Cheating cases will be reported to DC\n",
        "\n",
        "* Pass your smiles in the caffe after this exam, this is not a right place for socialization\n",
        "\n",
        "Good luck."
      ],
      "metadata": {
        "id": "JJI6lAIsRRU7"
      }
    },
    {
      "cell_type": "code",
      "source": [
        "import random\n",
        "import unittest"
      ],
      "metadata": {
        "id": "pWyqpa18Na_f"
      },
      "execution_count": null,
      "outputs": []
    },
    {
      "cell_type": "code",
      "source": [
        "# Genetic Algorithm Components\n",
        "def fitness(individual):\n",
        "    target = 50\n",
        "    return -abs(target - sum(individual))"
      ],
      "metadata": {
        "id": "t1_lzDfVNcyu"
      },
      "execution_count": null,
      "outputs": []
    },
    {
      "cell_type": "code",
      "source": [],
      "metadata": {
        "id": "x-d9NjwAqwPu"
      },
      "execution_count": null,
      "outputs": []
    },
    {
      "cell_type": "markdown",
      "source": [
        "Q. No: 1 - Complete the following function which perfroms the mutution ! **5 marks**"
      ],
      "metadata": {
        "id": "q7GNepq0NxVg"
      }
    },
    {
      "cell_type": "code",
      "source": [
        "# def probability(n,sum):\n",
        "#   p=n/sum;\n",
        "\n",
        "# def mutate(individual, mutation_rate=0.01):\n",
        "#   for i in range(len(individual)):\n",
        "#     sum=sum+individual[i];\n",
        "#   for i in range(len(individual)):\n",
        "#     probabilities = [probability(n) for n in individual]\n",
        "#     if (rindividual)>mutation_rate):\n",
        "#       individual[i]=random.randint(0,5)\n",
        "\n",
        "\n",
        "  #Need to add a loop till the length of individuals.\n",
        "  #Use a random event to check if the event has less probability then  mutation_rate\n",
        "  #do the the mutation\n",
        "\n",
        "  # return individual\n",
        "\n",
        "\n",
        "   #randomly changing the value of a random index of a chromosome\n",
        "def mutate(individual, mutation_rate=0.01):\n",
        "    for i in range(len(individual)):\n",
        "        if random.random() < mutation_rate:\n",
        "            individual[i] = random.randint(0, 5)\n",
        "    return individual\n",
        "\n",
        "individual = [5, 5, 5, 5, 5]\n",
        "x = mutate(individual, mutation_rate=0.01)\n",
        "print(x)"
      ],
      "metadata": {
        "id": "D_COO2A8NwE2",
        "colab": {
          "base_uri": "https://localhost:8080/"
        },
        "outputId": "ab699456-bf04-4c3d-ed41-1d0e3b5039c1"
      },
      "execution_count": null,
      "outputs": [
        {
          "output_type": "stream",
          "name": "stdout",
          "text": [
            "[5, 5, 5, 5, 5]\n"
          ]
        }
      ]
    },
    {
      "cell_type": "code",
      "source": [
        "individual = [5, 5, 5, 5, 5]\n",
        "x= mutate(individual, mutation_rate=0.01)\n",
        "print(x)"
      ],
      "metadata": {
        "colab": {
          "base_uri": "https://localhost:8080/"
        },
        "id": "KgSusOensPZp",
        "outputId": "7d8bfb5c-522e-46f6-f62b-6d825b524e5e"
      },
      "execution_count": null,
      "outputs": [
        {
          "output_type": "stream",
          "name": "stdout",
          "text": [
            "[1, 1, 1, 5, 3]\n"
          ]
        }
      ]
    },
    {
      "cell_type": "markdown",
      "source": [
        "Q. No: 2 - Complete the following function which perfroms the crossover ! **5 marks**"
      ],
      "metadata": {
        "id": "koqoeN7cOuaT"
      }
    },
    {
      "cell_type": "code",
      "source": [
        "def crossover(parent1, parent2):\n",
        " #doing cross_over between two chromosomes\n",
        "    n = len(parent1)\n",
        "    c=2\n",
        "    child1=parent1[0:c] + parent2[c:n]\n",
        "    child2=parent2[0:c]+parent1[c:n]\n",
        "    return child1, child2"
      ],
      "metadata": {
        "id": "reeB9UnGNtlh"
      },
      "execution_count": null,
      "outputs": []
    },
    {
      "cell_type": "code",
      "source": [
        "\n",
        "parent1 = [1, 2, 3, 4, 5]\n",
        "parent2 = [6, 7, 8, 9, 10]\n",
        "\n",
        "child1, child2=crossover(parent1, parent2)\n",
        "print(child1,child2)"
      ],
      "metadata": {
        "colab": {
          "base_uri": "https://localhost:8080/"
        },
        "id": "gV5n9OWhs4wc",
        "outputId": "b06c87e7-7feb-49a9-85d6-b54d04d8210b"
      },
      "execution_count": null,
      "outputs": [
        {
          "output_type": "stream",
          "name": "stdout",
          "text": [
            "[1, 2, 8, 9, 10] [6, 7, 3, 4, 5]\n"
          ]
        }
      ]
    },
    {
      "cell_type": "markdown",
      "source": [
        "Basic Definations for Min Max and alpha Beta"
      ],
      "metadata": {
        "id": "QYvYt6FfPJUK"
      }
    },
    {
      "cell_type": "code",
      "source": [
        "class Node:\n",
        "    def __init__(self, value=None, children=None):\n",
        "        self.value = value\n",
        "        self.children = children if children is not None else []\n",
        "\n",
        "    def is_terminal(self):\n",
        "        return len(self.children) == 0\n",
        "\n",
        "# Sample game tree setup\n",
        "def setup_test_nodes():\n",
        "    # Deepest level nodes (Level 3)\n",
        "    level3_nodes = [Node(3), Node(15), Node(5)]\n",
        "\n",
        "    # Mid-level nodes (Level 2) - should aggregate to select min/max correctly\n",
        "    level2_nodes = [Node(children=[level3_nodes[0], level3_nodes[1]]), Node(children=[level3_nodes[2]])]\n",
        "\n",
        "    # Root node (Level 1) - combines level 2 nodes\n",
        "    root = Node(children=level2_nodes)\n",
        "    return root"
      ],
      "metadata": {
        "id": "6U4DZxCPPIJM"
      },
      "execution_count": null,
      "outputs": []
    },
    {
      "cell_type": "markdown",
      "source": [
        "Q. No: 3 - Complete the following function which perfroms the min_max ! **5 marks**"
      ],
      "metadata": {
        "id": "AfcD4n5GPNuU"
      }
    },
    {
      "cell_type": "code",
      "source": [
        "def min_max(node, depth, is_maximizing_player):\n",
        "    if depth == 0 or node.is_terminal():\n",
        "        return node.value\n",
        "\n",
        "    if is_maximizing_player:\n",
        "        value = -float('inf')\n",
        "        for child in node.children:\n",
        "            value = max(value, min_max(child, depth - 1, not is_maximizing_player))\n",
        "        return value\n",
        "    else:\n",
        "        value = float('inf')\n",
        "        for child in node.children:\n",
        "            value = min(value, min_max(child, depth - 1, not is_maximizing_player))\n",
        "        return value\n",
        "\n",
        "root = setup_test_nodes()\n",
        "print(min_max(root, 3, True))"
      ],
      "metadata": {
        "id": "RF09RGQpF81r",
        "colab": {
          "base_uri": "https://localhost:8080/"
        },
        "outputId": "d0e598d4-0145-427b-ce55-e72fbe4b90a4"
      },
      "execution_count": null,
      "outputs": [
        {
          "output_type": "stream",
          "name": "stdout",
          "text": [
            "5\n"
          ]
        }
      ]
    },
    {
      "cell_type": "markdown",
      "source": [
        "Q. No: 4 - Complete the following function which perfroms the min_max ! **5 marks**"
      ],
      "metadata": {
        "id": "1VqsAl9cPXC5"
      }
    },
    {
      "cell_type": "code",
      "source": [
        "def alpha_beta(node, depth, alpha, beta, is_maximizing_player):\n",
        "    if depth == 0 or node.is_terminal_node:\n",
        "        return node.value\n",
        "\n",
        "    if is_maximizing_player:\n",
        "        value = -float('inf')\n",
        "        for child in node.children:\n",
        "            value = max(value, alpha_beta(child, depth - 1, alpha, beta, not is_maximizing_player))\n",
        "            alpha = max(alpha, value)\n",
        "            if beta <= alpha:\n",
        "                break\n",
        "        return value\n",
        "    else:\n",
        "        value = float('inf')  # Initialize value for minimizing player\n",
        "        for child in node.children:\n",
        "            value = min(value, alpha_beta(child, depth - 1, alpha, beta, True))\n",
        "            beta = min(beta, value)\n",
        "            if beta <= alpha:\n",
        "                break\n",
        "        return value"
      ],
      "metadata": {
        "id": "q5R1b_jtPaAy"
      },
      "execution_count": null,
      "outputs": []
    },
    {
      "cell_type": "code",
      "source": [
        "# Unit Testing\n",
        "class TestAlgorithms(unittest.TestCase):\n",
        "    def test_mutate(self):\n",
        "        individual = [5, 5, 5, 5, 5]\n",
        "        mutated = mutate(individual, mutation_rate=1)  # Forcing mutation\n",
        "        self.assertNotEqual(mutated, [5, 5, 5, 5, 5], \"Mutation did not occur\")\n",
        "\n",
        "    def test_crossover(self):\n",
        "        parent1 = [1, 2, 3, 4, 5]\n",
        "        parent2 = [6, 7, 8, 9, 10]\n",
        "        child1, child2 = crossover(parent1, parent2)\n",
        "        self.assertEqual(child1, [1, 2, 8, 9, 10], \"Crossover child1 incorrect\")\n",
        "        self.assertEqual(child2, [6, 7, 3, 4, 5], \"Crossover child2 incorrect\")\n",
        "\n",
        "    def test_min_max(self):\n",
        "        root = setup_test_nodes()\n",
        "        # Assuming the test starts with maximizing at the root\n",
        "        self.assertEqual(min_max(root, 3, True), 5, \"Min-Max minimization failed\")\n",
        "\n",
        "    def test_alpha_beta(self):\n",
        "        root = setup_test_nodes()\n",
        "        # Assuming the test starts with maximizing at the root\n",
        "        self.assertEqual(alpha_beta(root, 3, -float('inf'), float('inf'), True), 5, \"Alpha-Beta pruning minimization failed\")\n",
        "\n",
        "# Execute the tests\n",
        "unittest.main(argv=[''], exit=False)"
      ],
      "metadata": {
        "colab": {
          "base_uri": "https://localhost:8080/"
        },
        "id": "msr9BvVeNmKX",
        "outputId": "e196f1bf-349b-462f-c0e1-5afea24b293c"
      },
      "execution_count": null,
      "outputs": [
        {
          "output_type": "stream",
          "name": "stderr",
          "text": [
            "E...\n",
            "======================================================================\n",
            "ERROR: test_alpha_beta (__main__.TestAlgorithms)\n",
            "----------------------------------------------------------------------\n",
            "Traceback (most recent call last):\n",
            "  File \"<ipython-input-62-0cb16c51f30b>\", line 23, in test_alpha_beta\n",
            "    self.assertEqual(alpha_beta(root, 3, -float('inf'), float('inf'), True), 5, \"Alpha-Beta pruning minimization failed\")\n",
            "  File \"<ipython-input-61-99f6f649f2a0>\", line 2, in alpha_beta\n",
            "    if depth == 0 or node.is_terminal_node:\n",
            "AttributeError: 'Node' object has no attribute 'is_terminal_node'\n",
            "\n",
            "----------------------------------------------------------------------\n",
            "Ran 4 tests in 0.009s\n",
            "\n",
            "FAILED (errors=1)\n"
          ]
        },
        {
          "output_type": "execute_result",
          "data": {
            "text/plain": [
              "<unittest.main.TestProgram at 0x77fe9de55c30>"
            ]
          },
          "metadata": {},
          "execution_count": 62
        }
      ]
    }
  ]
}