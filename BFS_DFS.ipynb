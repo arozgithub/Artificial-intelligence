{
  "nbformat": 4,
  "nbformat_minor": 0,
  "metadata": {
    "colab": {
      "provenance": []
    },
    "kernelspec": {
      "name": "python3",
      "display_name": "Python 3"
    },
    "language_info": {
      "name": "python"
    }
  },
  "cells": [
    {
      "cell_type": "code",
      "execution_count": 1,
      "metadata": {
        "id": "nmn89mVLLnR_"
      },
      "outputs": [],
      "source": [
        "from collections import deque\n",
        "\n",
        "def read_cube(filename):\n",
        "    with open(filename, 'r') as file:\n",
        "        cube = [list(line.strip()) for line in file]\n",
        "    return cube"
      ]
    },
    {
      "cell_type": "code",
      "source": [],
      "metadata": {
        "id": "PUDUiVBASOLF"
      },
      "execution_count": 9,
      "outputs": []
    },
    {
      "cell_type": "code",
      "source": [
        "filename = '/content/path.txt'  # replace with your file path\n",
        "cube = read_cube(filename)\n",
        "print(cube)\n",
        "\n",
        "cube[0]"
      ],
      "metadata": {
        "colab": {
          "base_uri": "https://localhost:8080/"
        },
        "id": "5-5JZsBFQL-m",
        "outputId": "d905964b-079e-43f3-edf0-e9821543193e"
      },
      "execution_count": 17,
      "outputs": [
        {
          "output_type": "stream",
          "name": "stdout",
          "text": [
            "[['1', '0', 'S', '0', '1', '0', '0'], ['1', '1', '0', '0', '0', '1', '1'], ['0', '1', '0', '1', '0', '0', '0'], ['1', '1', '0', '1', '1', '0', '1'], ['0', '1', '0', '1', '0', '0', '0'], ['0', '1', '0', '1', '0', '1', '1'], ['G', '0', '0', '0', '0', '0', '0']]\n"
          ]
        },
        {
          "output_type": "execute_result",
          "data": {
            "text/plain": [
              "['1', '0', 'S', '0', '1', '0', '0']"
            ]
          },
          "metadata": {},
          "execution_count": 17
        }
      ]
    },
    {
      "cell_type": "code",
      "source": [
        "from collections import deque\n",
        "\n",
        "def get_neighbors(cube, x, y):\n",
        "    neighbors = [(x-1, y), (x+1, y), (x, y-1), (x, y+1)]\n",
        "    valid_neighbors = [(nx, ny) for nx, ny in neighbors if 0 <= nx < len(cube) and 0 <= ny < len(cube[0]) and cube[nx][ny] != '1']\n",
        "    return valid_neighbors\n",
        "\n",
        "def dfs(cube, start, goal):\n",
        "    stack = [(start, [start])]\n",
        "    visited = set()\n",
        "    while stack:\n",
        "        (x, y), path = stack.pop()\n",
        "        if (x, y) not in visited:\n",
        "            if cube[x][y] == goal:\n",
        "                return path\n",
        "            visited.add((x, y))\n",
        "            for neighbor in get_neighbors(cube, x, y):\n",
        "                stack.append((neighbor, path + [neighbor]))\n",
        "    return -1\n",
        "\n",
        "def bfs(cube, start, goal):\n",
        "    queue = deque([((start), [start])])\n",
        "    visited = set()\n",
        "    while queue:\n",
        "        (x, y), path = queue.popleft()\n",
        "        if (x, y) not in visited:\n",
        "            if cube[x][y] == goal:\n",
        "                return path\n",
        "            visited.add((x, y))\n",
        "            for neighbor in get_neighbors(cube, x, y):\n",
        "                queue.append((neighbor, path + [neighbor]))\n",
        "    return -1\n",
        "\n",
        "# Define the cube\n",
        "cube = [\n",
        "    list('10S0100'),\n",
        "    list('1100011'),\n",
        "    list('0101000'),\n",
        "    list('1101101'),\n",
        "    list('0101000'),\n",
        "    list('0111011'),\n",
        "    list('G000000')\n",
        "]\n",
        "\n",
        "# Find the start and goal positions\n",
        "start = [(i, row.index('S')) for i, row in enumerate(cube) if 'S' in row][0]\n",
        "goal = 'G'\n",
        "\n",
        "# Perform DFS and BFS\n",
        "dfs_path = dfs(cube, start, goal)\n",
        "bfs_path = bfs(cube, start, goal)\n",
        "\n",
        "print('DFS Path:', dfs_path)\n",
        "print('BFS Path:', bfs_path)\n"
      ],
      "metadata": {
        "colab": {
          "base_uri": "https://localhost:8080/"
        },
        "id": "6efGGR7EVoT1",
        "outputId": "f665f168-1bc3-42da-9360-cf8a3af6585b"
      },
      "execution_count": 20,
      "outputs": [
        {
          "output_type": "stream",
          "name": "stdout",
          "text": [
            "DFS Path: [(0, 2), (0, 3), (1, 3), (1, 4), (2, 4), (2, 5), (3, 5), (4, 5), (4, 4), (5, 4), (6, 4), (6, 3), (6, 2), (6, 1), (6, 0)]\n",
            "BFS Path: [(0, 2), (1, 2), (1, 3), (1, 4), (2, 4), (2, 5), (3, 5), (4, 5), (4, 4), (5, 4), (6, 4), (6, 3), (6, 2), (6, 1), (6, 0)]\n"
          ]
        }
      ]
    }
  ]
}