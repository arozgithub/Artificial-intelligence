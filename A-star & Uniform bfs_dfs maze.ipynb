{
  "cells": [
    {
      "cell_type": "markdown",
      "metadata": {
        "id": "ocqisl6ObQlB"
      },
      "source": [
        "# Part 2 **uniform**"
      ]
    },
    {
      "cell_type": "code",
      "execution_count": 2,
      "metadata": {
        "id": "i2wX_px3bNaP"
      },
      "outputs": [],
      "source": [
        "import heapq\n"
      ]
    },
    {
      "cell_type": "code",
      "execution_count": 6,
      "metadata": {
        "id": "fXE339dWcGbb"
      },
      "outputs": [],
      "source": [
        "class Node:\n",
        "    def __init__(self, state, cost, path):\n",
        "        self.state = state\n",
        "        self.cost = cost\n",
        "        self.path = path\n",
        "\n",
        "    def __lt__(self, other):\n",
        "        return self.cost < other.cost"
      ]
    },
    {
      "cell_type": "code",
      "execution_count": 7,
      "metadata": {
        "id": "s7Ps3t3FcCb_"
      },
      "outputs": [],
      "source": [
        "def uniform_cost_search(graph, start, goal):\n",
        "    frontier = []\n",
        "    heapq.heappush(frontier, Node(start, 0, []))\n",
        "\n",
        "    explored = set()\n",
        "\n",
        "    while frontier:\n",
        "        node = heapq.heappop(frontier)\n",
        "\n",
        "        if node.state == goal:\n",
        "            return node.path + [node.state], node.cost\n",
        "\n",
        "        if node.state not in explored:\n",
        "            explored.add(node.state)\n",
        "            for neighbor, neighbor_cost in graph[node.state].items():\n",
        "                if neighbor not in explored:\n",
        "                    total_cost = node.cost + neighbor_cost\n",
        "                    heapq.heappush(frontier, Node(neighbor, total_cost, node.path + [node.state]))\n",
        "\n",
        "    return None, float('inf')  # No path found"
      ]
    },
    {
      "cell_type": "code",
      "execution_count": 8,
      "metadata": {
        "colab": {
          "base_uri": "https://localhost:8080/"
        },
        "id": "o6sV5tgebVH7",
        "outputId": "38c9b1d3-04ad-4636-853a-23f7c25721c7"
      },
      "outputs": [
        {
          "name": "stdout",
          "output_type": "stream",
          "text": [
            "Optimal Path: ['A', 'C', 'D', 'D']\n",
            "Total Cost: 5\n"
          ]
        }
      ],
      "source": [
        "# Example usage:\n",
        "graph = {\n",
        "    'A': {'B': 6, 'C': 4},\n",
        "    'B': {'A': 1, 'C': 2, 'D': 5},\n",
        "    'C': {'A': 4, 'B': 2, 'D': 1},\n",
        "    'D': {'B': 5, 'C': 1}\n",
        "}\n",
        "\n",
        "start_node = 'A'\n",
        "goal_node = 'D'\n",
        "\n",
        "path, cost = uniform_cost_search(graph, start_node, goal_node)\n",
        "\n",
        "if path:\n",
        "    print(\"Optimal Path:\", path + [goal_node])\n",
        "    print(\"Total Cost:\", cost)\n",
        "else:\n",
        "    print(\"No path found.\")"
      ]
    },
    {
      "cell_type": "markdown",
      "metadata": {
        "id": "e3thc1qLtkU8"
      },
      "source": [
        "*part 3 A**"
      ]
    },
    {
      "cell_type": "code",
      "execution_count": null,
      "metadata": {
        "id": "e10Rlc6jtkU9"
      },
      "outputs": [],
      "source": [
        "# reading the cube from a text file\n",
        "def read_cube(file_name):\n",
        "    with open(file_name) as f:\n",
        "        lines = f.readlines()\n",
        "        maze = [[int(c) if c.isdigit() else (0 if c == 'S' else 99) for c in line.split()] for line in lines]\n",
        "        return maze\n"
      ]
    },
    {
      "cell_type": "code",
      "execution_count": null,
      "metadata": {},
      "outputs": [],
      "source": [
        "import heapq\n",
        "\n",
        "class Node:\n",
        "    def __init__(self, position, cost, parent=None):\n",
        "        self.position = position\n",
        "        self.cost = cost\n",
        "        self.parent = parent\n",
        "\n",
        "    def __lt__(self, other):\n",
        "        return self.cost < other.cost\n",
        "\n",
        "def heuristic(current, goal):\n",
        "    return abs(current[0] - goal[0]) + abs(current[1] - goal[1])\n",
        "\n",
        "def get_neighbors(position, grid):\n",
        "    rows, cols = len(grid), len(grid[0])\n",
        "    x, y = position\n",
        "    neighbors = []\n",
        "\n",
        "    for dx, dy in [(-1, 0), (1, 0), (0, -1), (0, 1)]:\n",
        "        nx, ny = x + dx, y + dy\n",
        "        if 0 <= nx < rows and 0 <= ny < cols:\n",
        "            neighbors.append((nx, ny))\n",
        "\n",
        "    return neighbors\n",
        "\n",
        "def a_star_search(grid, start, goal):\n",
        "    rows, cols = len(grid), len(grid[0])\n",
        "    start_node = Node(start, 0)\n",
        "    goal_node = Node(goal, 0)\n",
        "\n",
        "    open_list = []\n",
        "    heapq.heappush(open_list, (0, start_node))\n",
        "    closed_list = set()\n",
        "    g_costs = {start: 0}\n",
        "    \n",
        "    while open_list:\n",
        "        _, current_node = heapq.heappop(open_list)\n",
        "        current_position = current_node.position\n",
        "\n",
        "        if current_position in closed_list:\n",
        "            continue\n",
        "\n",
        "        closed_list.add(current_position)\n",
        "\n",
        "        if current_position == goal:\n",
        "            path = []\n",
        "            while current_node:\n",
        "                path.append(current_node.position)\n",
        "                current_node = current_node.parent\n",
        "            return path[::-1]\n",
        "\n",
        "        for neighbor in get_neighbors(current_position, grid):\n",
        "            x, y = neighbor\n",
        "            if grid[x][y] == 1:\n",
        "                continue  # Skip high walls\n",
        "\n",
        "            new_cost = g_costs[current_position] + 1 + (grid[x][y] == 2)\n",
        "            if neighbor not in g_costs or new_cost < g_costs[neighbor]:\n",
        "                g_costs[neighbor] = new_cost\n",
        "                priority = new_cost + heuristic(neighbor, goal)\n",
        "                heapq.heappush(open_list, (priority, Node(neighbor, new_cost, current_node)))\n",
        "\n",
        "    return None\n",
        "\n",
        "def read_grid_from_file(filename):\n",
        "    with open(filename, 'r') as file:\n",
        "        grid = [line.strip().split() for line in file]\n",
        "        for i in range(len(grid)):\n",
        "            for j in range(len(grid[i])):\n",
        "                if grid[i][j] == 'S':\n",
        "                    start = (i, j)\n",
        "                    grid[i][j] = '0'\n",
        "                elif grid[i][j] == 'G':\n",
        "                    goal = (i, j)\n",
        "                    grid[i][j] = '0'\n",
        "                else:\n",
        "                    grid[i][j] = int(grid[i][j])\n",
        "    return grid, start, goal\n",
        "\n",
        "# Usage\n",
        "filename = \"cube.txt\"\n",
        "grid, start, goal = read_grid_from_file(filename)\n",
        "path = a_star_search(grid, start, goal)\n",
        "print(\"Path found:\", path)\n"
      ]
    },
    {
      "cell_type": "code",
      "execution_count": null,
      "metadata": {
        "colab": {
          "base_uri": "https://localhost:8080/"
        },
        "id": "WTUzGC_EtkU-",
        "outputId": "34ee90b7-fe74-4096-c361-165dacd72499"
      },
      "outputs": [
        {
          "name": "stdout",
          "output_type": "stream",
          "text": [
            "[(0, 3), (1, 3), (1, 4), (2, 4), (2, 5), (3, 5), (4, 5), (4, 4), (5, 4), (6, 4), (6, 3), (6, 2), (6, 1), (6, 0), (0, 2)]\n"
          ]
        }
      ],
      "source": [
        "# Your task is to implement a cube solver using blind search algorithms (Depth-First Search-DFS and\n",
        "# Breadth-First Search-BFS). You are given a 2D array representing a cube, where 0s represent open\n",
        "# spaces and 1s represent walls. You need to find a path from the starting point to the goal point, where\n",
        "# the starting point is at the top left corner of the cube (0,0) and the goal point is at the bottom right\n",
        "# corner of the cube (n-1, m-1) where n and m are the dimensions of the cube. Following is a sample\n",
        "# Cube.\n",
        "\n",
        "# 1 0 S 0 1 0 0\n",
        "# 1 1 0 0 0 1 1\n",
        "# 0 1 0 1 0 0 0\n",
        "# 1 1 0 1 1 0 1\n",
        "# 0 1 0 1 0 0 0\n",
        "# 0 1 1 1 0 1 1\n",
        "# G 0 0 0 0 0 0\n",
        "\n",
        "from typing import List, Tuple\n",
        "from collections import deque\n",
        "\n",
        "# Depth-First Search algorithm\n",
        "def dfs(maze: List[List[int]], start: Tuple[int, int], goal: Tuple[int, int]) -> List[Tuple[int, int]]:\n",
        "    \"\"\"\"Returns a list of nodes in the path from start to goal, or an empty list if no path exists\"\"\"\n",
        "    def search(curr):\n",
        "        \"\"\"Returns True if goal is found, False otherwise\"\"\"\n",
        "        if curr == goal:\n",
        "            return True\n",
        "        # append the current node to the visited list\n",
        "        visited.add(curr)\n",
        "        # search neighbors of the current node\n",
        "        for neighbor in neighbors(curr):\n",
        "            if neighbor not in visited and maze[neighbor[0]][neighbor[1]] != 1:\n",
        "                if search(neighbor):\n",
        "                    path.append(neighbor)\n",
        "                    return True\n",
        "        return False\n",
        "\n",
        "    def neighbors(node):\n",
        "        \"\"\"Returns a list of neighbors of node\"\"\"\n",
        "        # for row and column in search directions\n",
        "        for r, c in ((-1, 0), (0, 1), (1, 0), (0, -1)):\n",
        "            neighbor = (node[0] + r, node[1] + c)\n",
        "            if 0 <= neighbor[0] < len(maze) and 0 <= neighbor[1] < len(maze[0]) and maze[neighbor[0]][neighbor[1]] != 1:\n",
        "                yield neighbor\n",
        "\n",
        "    path = [start]\n",
        "    visited = set()\n",
        "    search(start)\n",
        "    return path[::-1]\n",
        "\n",
        "print(dfs(read_cube('q1.txt'), (0, 2), (6, 0)))\n"
      ]
    },
    {
      "cell_type": "code",
      "execution_count": null,
      "metadata": {
        "colab": {
          "base_uri": "https://localhost:8080/"
        },
        "id": "Dz2rgxn1tkU-",
        "outputId": "0a6dd297-7c46-485f-c168-8bce2ae85074"
      },
      "outputs": [
        {
          "name": "stdout",
          "output_type": "stream",
          "text": [
            "[(0, 2), (0, 3), (1, 3), (1, 4), (2, 4), (2, 5), (3, 5), (4, 5), (4, 4), (5, 4), (6, 4), (6, 3), (6, 2), (6, 1), (6, 0)]\n"
          ]
        }
      ],
      "source": [
        "def bfs(maze: List[List[int]], start: Tuple[int, int], goal: Tuple[int, int]) -> List[Tuple[int, int]]:\n",
        "    \"\"\"Returns a list of nodes in the path from start to goal, or an empty list if no path exists\"\"\"\n",
        "    def neighbors(node):\n",
        "        \"\"\"Returns a list of neighbors of node\"\"\"\n",
        "        # for row and column in search directions\n",
        "        for r, c in ((-1, 0), (0, 1), (1, 0), (0, -1)):\n",
        "            neighbor = (node[0] + r, node[1] + c)\n",
        "            if 0 <= neighbor[0] < len(maze) and 0 <= neighbor[1] < len(maze[0]) and maze[neighbor[0]][neighbor[1]] != 1:\n",
        "                yield neighbor\n",
        "    dq = deque([start])\n",
        "    visited = set([start])\n",
        "    parent = {start: None}\n",
        "\n",
        "    while dq:\n",
        "        node = dq.popleft()\n",
        "        if node == goal:\n",
        "            break\n",
        "        for neighbor in neighbors(node):\n",
        "            if neighbor not in visited and maze[neighbor[0]][neighbor[1]] != 1:\n",
        "                visited.add(neighbor)\n",
        "                dq.append(neighbor)\n",
        "                parent[neighbor] = node\n",
        "\n",
        "    path = list()\n",
        "    while node:\n",
        "        path.append(node)\n",
        "        node = parent[node]\n",
        "\n",
        "    return path[::-1]\n",
        "\n",
        "print(bfs(read_cube('q1.txt'), (0, 2), (6, 0)))"
      ]
    },
    {
      "cell_type": "code",
      "execution_count": null,
      "metadata": {
        "id": "SDXYzu_Ua6PH"
      },
      "outputs": [],
      "source": []
    }
  ],
  "metadata": {
    "colab": {
      "provenance": []
    },
    "kernelspec": {
      "display_name": "base",
      "language": "python",
      "name": "python3"
    },
    "language_info": {
      "codemirror_mode": {
        "name": "ipython",
        "version": 3
      },
      "file_extension": ".py",
      "mimetype": "text/x-python",
      "name": "python",
      "nbconvert_exporter": "python",
      "pygments_lexer": "ipython3",
      "version": "3.9.16"
    },
    "orig_nbformat": 4,
    "vscode": {
      "interpreter": {
        "hash": "ad2bdc8ecc057115af97d19610ffacc2b4e99fae6737bb82f5d7fb13d2f2c186"
      }
    }
  },
  "nbformat": 4,
  "nbformat_minor": 0
}
